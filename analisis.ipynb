{
 "cells": [
  {
   "cell_type": "markdown",
   "metadata": {},
   "source": [
    "Import Necessary Libraries\n"
   ]
  },
  {
   "cell_type": "code",
   "execution_count": null,
   "metadata": {},
   "outputs": [],
   "source": [
    "import pandas as pd\n",
    "import csv\n",
    "import os"
   ]
  },
  {
   "cell_type": "markdown",
   "metadata": {},
   "source": [
    "MERGE 12 MONTHS OF SALES DATA INTO ONE FILE\n"
   ]
  },
  {
   "cell_type": "markdown",
   "metadata": {},
   "source": [
    "CHECK IF FILE ALREADY EXISTS OR NEED TO BE DELETED"
   ]
  },
  {
   "cell_type": "code",
   "execution_count": 6,
   "metadata": {},
   "outputs": [
    {
     "name": "stdout",
     "output_type": "stream",
     "text": [
      "Deleted Data/Sales_Data/sales_data_combined.csv\n"
     ]
    }
   ],
   "source": [
    "# FILE TO DELETE\n",
    "file_to_delete = r'Data/Sales_Data/sales_data_combined.csv'\n",
    "# CHECK IF EXISTS\n",
    "if os.path.exists(file_to_delete):\n",
    "    # DELETE FILE\n",
    "    os.remove(file_to_delete)\n",
    "    print(f'Deleted {file_to_delete}')"
   ]
  },
  {
   "cell_type": "markdown",
   "metadata": {},
   "source": [
    "READ CSV'S INDIVIDUALLY"
   ]
  },
  {
   "cell_type": "code",
   "execution_count": null,
   "metadata": {},
   "outputs": [],
   "source": [
    "# READ CSV'S\n",
    "df1 = pd.read_csv(r'Data/Sales_Data/Sales_April_2019.csv')\n",
    "df2 = pd.read_csv(r'Data/Sales_Data/Sales_August_2019.csv')\n",
    "df3 = pd.read_csv(r'Data/Sales_Data/Sales_December_2019.csv')\n",
    "df4 = pd.read_csv(r'Data/Sales_Data/Sales_February_2019.csv')\n",
    "df5 = pd.read_csv(r'Data/Sales_Data/Sales_January_2019.csv')\n",
    "df6 = pd.read_csv(r'Data/Sales_Data/Sales_July_2019.csv')\n",
    "df7 = pd.read_csv(r'Data/Sales_Data/Sales_June_2019.csv')\n",
    "df8 = pd.read_csv(r'Data/Sales_Data/Sales_March_2019.csv')\n",
    "df9 = pd.read_csv(r'Data/Sales_Data/Sales_May_2019.csv')\n",
    "df10 = pd.read_csv(r'Data/Sales_Data/Sales_November_2019.csv')\n",
    "df11 = pd.read_csv(r'Data/Sales_Data/Sales_October_2019.csv')\n",
    "df12 = pd.read_csv(r'Data/Sales_Data/Sales_September_2019.csv')\n",
    "\n",
    "print(df1, df2, df3, df4, df5, df6, df7, df8, df9, df10, df11, df12)"
   ]
  },
  {
   "cell_type": "markdown",
   "metadata": {},
   "source": [
    "COUNTING NUMER OF LINES / ROWS"
   ]
  },
  {
   "cell_type": "code",
   "execution_count": null,
   "metadata": {},
   "outputs": [],
   "source": [
    "# #COUNTING NUMBER OF LINES\n",
    "# with open(df1,'r') as file:\n",
    "#     #COUNT LINES USING LOOP\n",
    "#     num_lines= sum(1 for line in file)\n",
    "# print(f\"The file '{df1}' has {num_lines} registries\")\n",
    "\n",
    "for index, row in df1.iterrows():\n",
    "    print(row)"
   ]
  },
  {
   "cell_type": "markdown",
   "metadata": {},
   "source": [
    "MERGE DATAFRAMES ONE BY ONE WITH CONCAT"
   ]
  },
  {
   "cell_type": "code",
   "execution_count": null,
   "metadata": {},
   "outputs": [],
   "source": [
    "# MERGE DATAFRAMES\n",
    "combined_csv = pd.concat([df1, df2, df3], ignore_index=True)\n",
    "# SAVE MERGED DATAFRAME\n",
    "combined_csv.to_csv(r'Data/Sales_Data/sales_data_combined.csv')\n",
    "print(\"Merged dataframe saved to 'sales_data_combined.csv'\")\n",
    "print(combined_csv)"
   ]
  },
  {
   "cell_type": "markdown",
   "metadata": {},
   "source": []
  },
  {
   "cell_type": "markdown",
   "metadata": {},
   "source": [
    "READ ALL CSV IN A DIRECTORY"
   ]
  },
  {
   "cell_type": "code",
   "execution_count": null,
   "metadata": {},
   "outputs": [],
   "source": [
    "#IMPORT CSV MODULE\n",
    "import csv\n",
    "\n",
    "# FOLDER TO READ\n",
    "folder_csv_path = r'Data/Sales_Data'\n",
    "all_csv_files = os.listdir(folder_csv_path)\n",
    "# CHECK IF READ\n",
    "print(all_csv_files)\n",
    "# FILTER NON CSV FILES IN DIRECTORY\n",
    "only_csv_files = [f for f in all_csv_files if f.endswith('.csv')]\n",
    "# CREATE A LIST TO HOLD CSV\n",
    "df_csv_list = []\n",
    "for csv in only_csv_files:\n",
    "    csv_path = os.path.join(folder_csv_path, csv)\n",
    "    try:\n",
    "        #read csv \n",
    "        df= pd.read_csv(csv_path)\n",
    "        df_csv_list.append(df)\n",
    "    except Exception as e:\n",
    "        print(f\"Could not read file {csv} because of error: {e}\")\n",
    "    print(df_csv_list)"
   ]
  },
  {
   "cell_type": "markdown",
   "metadata": {},
   "source": [
    "MERGE ALL CSV IN THE DIRECTORY"
   ]
  },
  {
   "cell_type": "code",
   "execution_count": null,
   "metadata": {},
   "outputs": [],
   "source": [
    "#CONCATENATE ALL FILES\n",
    "all_csv_combined = pd.concat(df_csv_list,ignore_index=True)\n",
    "#SAVE THE NEW FILE\n",
    "all_csv_combined.to_csv(os.path.join(folder_csv_path,'sales_data_combined.csv'),index=False)\n",
    "#PRINT MERGED CSV\n",
    "print(all_csv_combined)\n",
    "#READ FIRST 5 ROWS \n",
    "all_csv_combined.head()\n"
   ]
  },
  {
   "cell_type": "markdown",
   "metadata": {},
   "source": [
    "TO CHECK"
   ]
  },
  {
   "cell_type": "code",
   "execution_count": null,
   "metadata": {},
   "outputs": [],
   "source": [
    "# import csv\n",
    "# data = pd.read_csv(r'Data/csvNovedadesene22del01al10.csv')\n",
    "# reader = csv.reader(data)\n",
    "# for row in reader:\n",
    "#     print(row)"
   ]
  }
 ],
 "metadata": {
  "kernelspec": {
   "display_name": "Python 3",
   "language": "python",
   "name": "python3"
  },
  "language_info": {
   "codemirror_mode": {
    "name": "ipython",
    "version": 3
   },
   "file_extension": ".py",
   "mimetype": "text/x-python",
   "name": "python",
   "nbconvert_exporter": "python",
   "pygments_lexer": "ipython3",
   "version": "3.12.2"
  }
 },
 "nbformat": 4,
 "nbformat_minor": 2
}
